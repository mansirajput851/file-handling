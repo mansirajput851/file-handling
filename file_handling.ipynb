{
  "nbformat": 4,
  "nbformat_minor": 0,
  "metadata": {
    "colab": {
      "provenance": []
    },
    "kernelspec": {
      "name": "python3",
      "display_name": "Python 3"
    },
    "language_info": {
      "name": "python"
    }
  },
  "cells": [
    {
      "cell_type": "markdown",
      "source": [
        "#Files, execeptional handling, logging memory management Question :-"
      ],
      "metadata": {
        "id": "mdjIBM90gE1v"
      }
    },
    {
      "cell_type": "markdown",
      "source": [
        "1. What is the difference between interpreter and compiled languages?\n",
        "   \n",
        "   -  A compiler  translates an entire source code into before execution, creating an executable file. An interperter, on the other hand, translates runtime, without generating a separate executable."
      ],
      "metadata": {
        "id": "hW6OtThJgm7a"
      }
    },
    {
      "cell_type": "markdown",
      "source": [
        "2. What is exception handling in python?\n",
        "\n",
        "    -  Exception handling in python is a mechaninism used to manage runtime errors, known as exceptions, that occur during the execution of a program. it allows for graceful and providing  a way to recover or respond to unexpected situations.  "
      ],
      "metadata": {
        "id": "6i4cq271geYz"
      }
    },
    {
      "cell_type": "markdown",
      "source": [
        "3. What is the purpose of the finally block in exception handling?\n",
        "\n",
        "    -  When an exception occurs, python stops the program and generates an exception message. Handling exceptions is strongly advised.\n",
        "    \n",
        "\n"
      ],
      "metadata": {
        "id": "0njMqTdOq0AK"
      }
    },
    {
      "cell_type": "markdown",
      "source": [
        "4. What is logging in Python?\n",
        "\n",
        "  -   In Python, \"logging\" refers to the process of recording events that occur during the execution of a program. It involves using the built-in logging module to generate messages that provide information about the program's state, potential issues, or significant events.  "
      ],
      "metadata": {
        "id": "HhYo6hJ5avbL"
      }
    },
    {
      "cell_type": "markdown",
      "source": [
        "5. What is the significance of the __del__ method in Python?\n",
        "\n",
        "    -   The del keyword in Python is a statement used to delete objects or references to objects within a program.\n",
        "  "
      ],
      "metadata": {
        "id": "DYA8Ppv4avYl"
      }
    },
    {
      "cell_type": "markdown",
      "source": [
        "6. What is the difference between import and from ... import in Python?\n",
        "\n",
        "  -  In Python, both import and from ... import statements are used to bring modules or parts of modules into the current namespace, but they differ in how they achieve this and the implications for your code."
      ],
      "metadata": {
        "id": "130AfDqOavVa"
      }
    },
    {
      "cell_type": "markdown",
      "source": [
        "7. How can you handle multiple exceptions in Python?  -  \n",
        "\n",
        "  -  To catch multiple exceptions in Python in a compact form, you can use the one-line try-except syntax. This is especially useful for handling minor errors without breaking the program flow."
      ],
      "metadata": {
        "id": "b8TGpz2gavSk"
      }
    },
    {
      "cell_type": "markdown",
      "source": [
        "8. What is the purpose of the with statement when handling files in Python?\n",
        "\n",
        "  -  The with statement in Python is primarily used for resource management, especially when dealing with external resources like files. Its main purpose is to ensure that resources are properly acquired and released, even if errors occur during the process."
      ],
      "metadata": {
        "id": "VRToqiP8avP4"
      }
    },
    {
      "cell_type": "markdown",
      "source": [
        "9. What is the difference between multithreading and multiprocessing?\n",
        "\n",
        "  -  Multithreading involves multiple threads within a single process, sharing the same memory space, while multiprocessing involves multiple independent processes, each with its own memory space."
      ],
      "metadata": {
        "id": "wDZ2r2rfavGL"
      }
    },
    {
      "cell_type": "markdown",
      "source": [
        "10. What are the advantages of using logging in a program?\n",
        "\n",
        "   -  Logging is a crucial practice in software development that offers numerous benefits for understanding, debugging, and maintaining programs."
      ],
      "metadata": {
        "id": "0OYrkOhOau3k"
      }
    },
    {
      "cell_type": "markdown",
      "source": [
        "11. What is memory management in Python?\n",
        "\n",
        "  -  Memory management in Python refers to the system that handles the allocation and deallocation of memory resources used by Python programs."
      ],
      "metadata": {
        "id": "9zzjBNp0ausE"
      }
    },
    {
      "cell_type": "markdown",
      "source": [
        "12. What are the basic steps involved in exception handling in Python?\n",
        "\n",
        "  -  "
      ],
      "metadata": {
        "id": "Gcwc9LyIauhK"
      }
    },
    {
      "cell_type": "markdown",
      "source": [
        "13. Why is memory management important in Python?"
      ],
      "metadata": {
        "id": "Bnj5-esHauVs"
      }
    },
    {
      "cell_type": "markdown",
      "source": [
        "14. What is the role of try and except in exception handling?\n",
        "\n",
        "  -  In Python, the try and except statements are fundamental for exception handling, which allows a program to gracefully manage errors that occur during execution."
      ],
      "metadata": {
        "id": "Tn_vGy4nauD0"
      }
    },
    {
      "cell_type": "markdown",
      "source": [
        "15. How does Python's garbage collection system work?\n",
        "\n",
        "  -  Python's garbage collection system automatically reclaims memory occupied by objects that are no longer in use, preventing memory leaks."
      ],
      "metadata": {
        "id": "INu-ZSSfatYX"
      }
    },
    {
      "cell_type": "markdown",
      "source": [
        "16. What is the purpose of the else block in exception handling?\n",
        "\n",
        "  -  The else block in exception handling, specifically within a try-except structure, is designed to execute code only when no exceptions are raised within the corresponding try block."
      ],
      "metadata": {
        "id": "-ukhVZwXoPcB"
      }
    },
    {
      "cell_type": "markdown",
      "source": [
        "17. What are the common logging levels in Python?\n",
        "\n",
        "  -  Python's logging module provides several built-in logging levels, each indicating a different severity or purpose for the log message."
      ],
      "metadata": {
        "id": "ptZpj2_Xt3xX"
      }
    },
    {
      "cell_type": "markdown",
      "source": [
        "18. What is the difference between os.fork() and multiprocessing in Python?\n",
        "\n",
        "  -  The core difference between os.fork() and python's multiprocessing module lies in theor level of abstraction."
      ],
      "metadata": {
        "id": "3QTTZysjt5t2"
      }
    },
    {
      "cell_type": "markdown",
      "source": [
        "19. What is the importance of closing a file in Python?\n",
        "\n",
        "  -  Closing a file in python is crucial for several reasons, primarily related to resource management, data integrity."
      ],
      "metadata": {
        "id": "r0sVTrfht5hC"
      }
    },
    {
      "cell_type": "markdown",
      "source": [
        "20. What is the difference between file.read() and file.readline() in Python?\n",
        "\n",
        "  -  file.read():\n",
        "This method reads the entire content of the file as a single string. If an optional argument size is provided, it reads up to size bytes from the file.\n",
        "   - file.readline():\n",
        "This method reads a single line from the file, including the newline character (\\n) at the end of the line. If the end of the file is reached, it returns an empty string."
      ],
      "metadata": {
        "id": "c5puvHS4t5O0"
      }
    },
    {
      "cell_type": "markdown",
      "source": [
        "21. What is the logging module in Python used for?\n",
        "\n",
        "  -  The logging module in python privides a flexible and powerful feamework for emiting log messages from app;icaations."
      ],
      "metadata": {
        "id": "klRBmjqCt4ol"
      }
    },
    {
      "cell_type": "markdown",
      "source": [
        "22.  What is the os module in Python used for in file handling?\n",
        "\n",
        "  -  The os module in pyhton provides a way of interacting with the operating system."
      ],
      "metadata": {
        "id": "_N3bO2y8wzP3"
      }
    },
    {
      "cell_type": "markdown",
      "source": [
        "23. What are the challenges associated with memory management in Python?\n",
        "\n",
        "  -  "
      ],
      "metadata": {
        "id": "C7edetL4w0ND"
      }
    },
    {
      "cell_type": "markdown",
      "source": [
        "24. How do you raise an exception manually in Python?\n",
        "\n",
        "  -  In python, you manually raise an exception using the raise keywords. This allows you to explicitly trigger an error condition and halt program execution at a specific point, providing information about th error."
      ],
      "metadata": {
        "id": "m6Wv6zKmBRDC"
      }
    },
    {
      "cell_type": "markdown",
      "source": [
        "25. Why is it important to use multithreading in certain applications?\n",
        "\n",
        "  -  Multithreading is important for application where multiple tasks need to be performed concurrently, enhancing performance, responsiveness, and resourse utilization."
      ],
      "metadata": {
        "id": "KeHL6oRNBgSL"
      }
    },
    {
      "cell_type": "markdown",
      "source": [
        "#Practical Question :-"
      ],
      "metadata": {
        "id": "oia6xIi-M05T"
      }
    },
    {
      "cell_type": "markdown",
      "source": [
        "1. How can you open a file for writing in Python and write a string to it?"
      ],
      "metadata": {
        "id": "r5-pbDgPM-Hh"
      }
    },
    {
      "cell_type": "code",
      "execution_count": null,
      "metadata": {
        "id": "_HfK1k8EfzzT",
        "colab": {
          "base_uri": "https://localhost:8080/"
        },
        "outputId": "931ff9b4-282b-46e4-cd97-7eaf53743225"
      },
      "outputs": [
        {
          "output_type": "execute_result",
          "data": {
            "text/plain": [
              "49"
            ]
          },
          "metadata": {},
          "execution_count": 1
        }
      ],
      "source": [
        "file = open(\"my_file.txt\",\"w\")\n",
        "file.write(\"this is another string to be written to the file.\")"
      ]
    },
    {
      "cell_type": "markdown",
      "source": [
        "2.Write a Python program to read the contents of a file and print each line."
      ],
      "metadata": {
        "id": "H3zjq5MWOngH"
      }
    },
    {
      "cell_type": "code",
      "source": [
        "try:\n",
        "    file = open(\"my_document.txt\", \"r\")\n",
        "    for line in file:\n",
        "        print(line, end='')\n",
        "except FileNotFoundError:\n",
        "    print(\"Error: The file was not found.\")\n",
        "finally:\n",
        "    if 'file' in locals() and not file.closed:\n",
        "        file.close()"
      ],
      "metadata": {
        "id": "Btsct7sbOY6l"
      },
      "execution_count": null,
      "outputs": []
    },
    {
      "cell_type": "markdown",
      "source": [
        "3. How would you handle a case where the file doesn't exist while trying to open it for reading?\n"
      ],
      "metadata": {
        "id": "L0sYDyLTPVUq"
      }
    },
    {
      "cell_type": "code",
      "source": [
        "try:\n",
        "    file = open(\"non_existent_file.txt\", \"r\")\n",
        "    print(file.read())\n",
        "except FileNotFoundError:\n",
        "    print(\"Error: The file was not found.\")\n",
        "finally:\n",
        "    if 'file' in locals() and not file.closed:\n",
        "        file.close()"
      ],
      "metadata": {
        "colab": {
          "base_uri": "https://localhost:8080/"
        },
        "id": "98UYC6YFPllm",
        "outputId": "9f34974e-124c-46a4-ec8c-bc759d5e3e46"
      },
      "execution_count": null,
      "outputs": [
        {
          "output_type": "stream",
          "name": "stdout",
          "text": [
            "Error: The file was not found.\n"
          ]
        }
      ]
    },
    {
      "cell_type": "markdown",
      "source": [
        "4. Write a Python script that reads from one file and writes its content to another file."
      ],
      "metadata": {
        "id": "JHS8-pWdQn7d"
      }
    },
    {
      "cell_type": "code",
      "source": [
        "with open('source.txt', 'r') as source_file:\n",
        "        content = source_file.read()\n",
        "    with open('destination.txt', 'w') as destination_file:\n",
        "        destination_file.write(content)"
      ],
      "metadata": {
        "id": "lYhSBeqgQ7Bn"
      },
      "execution_count": null,
      "outputs": []
    },
    {
      "cell_type": "markdown",
      "source": [
        "5. How would you catch and handle division by zero error in Python?"
      ],
      "metadata": {
        "id": "Alge6HZGQ7wd"
      }
    },
    {
      "cell_type": "code",
      "source": [
        "import logging\n",
        "logging.basicConfig(filename='error.log', level=logging.ERROR,\n",
        "                    format='%(asctime)s - %(levelname)s - %(message)s')\n",
        "\n",
        "def divide_numbers(numerator, denominator):\n",
        "    try:\n",
        "        result = numerator / denominator\n",
        "        print(f\"Result: {result}\")\n",
        "    except ZeroDivisionError:\n",
        "        logging.exception(\"Attempted to divide by zero!\")\n",
        "        print(\"Error: Cannot divide by zero. Check 'error.log' for details.\")\n",
        "\n",
        "divide_numbers(10, 2)\n",
        "divide_numbers(5, 0)"
      ],
      "metadata": {
        "colab": {
          "base_uri": "https://localhost:8080/"
        },
        "id": "vOb4ZsE-RDV8",
        "outputId": "ff9337b9-61c2-4349-f95c-fa4c95285a51"
      },
      "execution_count": null,
      "outputs": [
        {
          "output_type": "stream",
          "name": "stderr",
          "text": [
            "ERROR:root:Attempted to divide by zero!\n",
            "Traceback (most recent call last):\n",
            "  File \"/tmp/ipython-input-3-3525976969.py\", line 7, in divide_numbers\n",
            "    result = numerator / denominator\n",
            "             ~~~~~~~~~~^~~~~~~~~~~~~\n",
            "ZeroDivisionError: division by zero\n"
          ]
        },
        {
          "output_type": "stream",
          "name": "stdout",
          "text": [
            "Result: 5.0\n",
            "Error: Cannot divide by zero. Check 'error.log' for details.\n"
          ]
        }
      ]
    },
    {
      "cell_type": "markdown",
      "source": [
        "6. Write a Python program that logs an error message to a log file when a division by zero exception occurs?"
      ],
      "metadata": {
        "id": "DgxO38HzRD6A"
      }
    },
    {
      "cell_type": "code",
      "source": [
        "try:\n",
        "    numerator = 10\n",
        "    denominator = 0\n",
        "    result = numerator / denominator\n",
        "    print(result)\n",
        "except ZeroDivisionError:\n",
        "    print(\"Error: Division by zero is not allowed.\")"
      ],
      "metadata": {
        "colab": {
          "base_uri": "https://localhost:8080/"
        },
        "id": "b4S0vB8-RqND",
        "outputId": "d6927b1a-da48-4e4e-88ae-ac433b13a280"
      },
      "execution_count": null,
      "outputs": [
        {
          "output_type": "stream",
          "name": "stdout",
          "text": [
            "Error: Division by zero is not allowed.\n"
          ]
        }
      ]
    },
    {
      "cell_type": "markdown",
      "source": [
        "7. How do you log information at different levels (INFO, ERROR, WARNING) in Python using the logging module?"
      ],
      "metadata": {
        "id": "AZmc3n-bUkx7"
      }
    },
    {
      "cell_type": "code",
      "source": [
        "import logging\n",
        "\n",
        "\n",
        "logging.basicConfig(level=logging.INFO, format='%(levelname)s: %(message)s')\n",
        "\n",
        "logging.info(\"Application started successfully.\")\n",
        "logging.warning(\"Disk space is running low.\")\n",
        "try:\n",
        "    result = 10 / 0\n",
        "except ZeroDivisionError:\n",
        "    logging.error(\"Attempted to divide by zero!\")"
      ],
      "metadata": {
        "id": "cn3e_51YSzg7",
        "colab": {
          "base_uri": "https://localhost:8080/"
        },
        "outputId": "8b168616-34f9-4bcd-d9a3-3a3565a67674"
      },
      "execution_count": null,
      "outputs": [
        {
          "output_type": "stream",
          "name": "stderr",
          "text": [
            "WARNING:root:Disk space is running low.\n",
            "ERROR:root:Attempted to divide by zero!\n"
          ]
        }
      ]
    },
    {
      "cell_type": "markdown",
      "source": [
        "8. Write a program to handle a file opening error using exception handling?"
      ],
      "metadata": {
        "id": "viTP0U61cj_1"
      }
    },
    {
      "cell_type": "code",
      "source": [
        "try:\n",
        "\n",
        "    with open(\"my_file.txt\", \"r\") as file:\n",
        "        content = file.read()\n",
        "        print(\"File content:\")\n",
        "        print(content)\n",
        "except FileNotFoundError:\n",
        "\n",
        "    print(\"Error: The specified file was not found.\")\n",
        "except IOError as e:\n",
        "\n",
        "    print(f\"An I/O error occurred: {e}\")\n",
        "finally:\n",
        "\n",
        "    print(\"File operation attempt completed.\")"
      ],
      "metadata": {
        "colab": {
          "base_uri": "https://localhost:8080/"
        },
        "id": "8wtdRoOKcch7",
        "outputId": "26c20f3a-83d1-4048-a1d4-3041d06733e6"
      },
      "execution_count": null,
      "outputs": [
        {
          "output_type": "stream",
          "name": "stdout",
          "text": [
            "File content:\n",
            "this is another string to be written to the file.\n",
            "File operation attempt completed.\n"
          ]
        }
      ]
    },
    {
      "cell_type": "markdown",
      "source": [
        "9. How can you read a file line by line and store its content in a list in Python?"
      ],
      "metadata": {
        "id": "bbkFQ_PvdLBF"
      }
    },
    {
      "cell_type": "code",
      "source": [
        "lines = []\n",
        "    with open('your_file.txt', 'r') as f:\n",
        "        for line in f:\n",
        "            lines.append(line.strip())"
      ],
      "metadata": {
        "colab": {
          "base_uri": "https://localhost:8080/",
          "height": 106
        },
        "id": "xz8LQEBvdJvy",
        "outputId": "92bbc799-9aac-4990-f3c8-869d6edcf88f"
      },
      "execution_count": null,
      "outputs": [
        {
          "output_type": "error",
          "ename": "IndentationError",
          "evalue": "unexpected indent (ipython-input-9-4220811335.py, line 2)",
          "traceback": [
            "\u001b[0;36m  File \u001b[0;32m\"/tmp/ipython-input-9-4220811335.py\"\u001b[0;36m, line \u001b[0;32m2\u001b[0m\n\u001b[0;31m    with open('your_file.txt', 'r') as f:\u001b[0m\n\u001b[0m    ^\u001b[0m\n\u001b[0;31mIndentationError\u001b[0m\u001b[0;31m:\u001b[0m unexpected indent\n"
          ]
        }
      ]
    },
    {
      "cell_type": "markdown",
      "source": [
        "10. How can you append data to an existing file in Python?"
      ],
      "metadata": {
        "id": "cGAmUu-MeAID"
      }
    },
    {
      "cell_type": "code",
      "source": [
        "with open(\"your_file.txt\", \"a\") as file_object:\n",
        "        file_object.write(\"This data is appended using '"
      ],
      "metadata": {
        "id": "-KhIvoKZdftr"
      },
      "execution_count": null,
      "outputs": []
    },
    {
      "cell_type": "markdown",
      "source": [
        "11. Write a Python program that uses a try-except block to handle an error when attempting to access a\n",
        "dictionary key that doesn't exist"
      ],
      "metadata": {
        "id": "jBfsZl3EhAHK"
      }
    },
    {
      "cell_type": "code",
      "source": [
        "my_dict = {\"name\": \"Alice\", \"age\": 30}\n",
        "\n",
        "try:\n",
        "    # Attempt to access a key that might not exist\n",
        "    value = my_dict[\"city\"]\n",
        "    print(f\"The value is: {value}\")\n",
        "except KeyError:\n",
        "    # Handle the KeyError if the key is not found\n",
        "    print(\"Error: The requested key does not exist in the dictionary.\")"
      ],
      "metadata": {
        "colab": {
          "base_uri": "https://localhost:8080/"
        },
        "id": "8R3mqn9vhGw_",
        "outputId": "ef1f565a-0a27-4c56-e76f-ff61e38b8952"
      },
      "execution_count": null,
      "outputs": [
        {
          "output_type": "stream",
          "name": "stdout",
          "text": [
            "Error: The requested key does not exist in the dictionary.\n"
          ]
        }
      ]
    },
    {
      "cell_type": "markdown",
      "source": [
        "12. Write a program that demonstrates using multiple except blocks to handle different types of exceptions?"
      ],
      "metadata": {
        "id": "UNQxAx0mhHxB"
      }
    },
    {
      "cell_type": "code",
      "source": [
        "try:\n",
        "    numerator = int(input(\"Enter the numerator: \"))\n",
        "    denominator = int(input(\"Enter the denominator: \"))\n",
        "    quotient = numerator / denominator\n",
        "    print(f\"Quotient: {quotient}\")\n",
        "except ValueError:\n",
        "    print(\"Invalid input. Please enter only integers.\")\n",
        "except ZeroDivisionError:\n",
        "    print(\"Error: Division by zero is not allowed.\")"
      ],
      "metadata": {
        "colab": {
          "base_uri": "https://localhost:8080/"
        },
        "id": "WleweFqZhUpY",
        "outputId": "7cba1693-3fed-4ed0-c077-dffbf14ed590"
      },
      "execution_count": null,
      "outputs": [
        {
          "output_type": "stream",
          "name": "stdout",
          "text": [
            "Enter the numerator: 15\n",
            "Enter the denominator: 5\n",
            "Quotient: 3.0\n"
          ]
        }
      ]
    },
    {
      "cell_type": "markdown",
      "source": [
        "13. How would you check if a file exists before attempting to read it in Python?"
      ],
      "metadata": {
        "id": "BlQHNrf3hVKb"
      }
    },
    {
      "cell_type": "code",
      "source": [
        "import logging\n",
        "\n",
        "    logging.basicConfig(level=logging.INFO,\n",
        "                        format='%(asctime)s - %(levelname)s - %(message)s')\n",
        "\n",
        "    def divide(a, b):\n",
        "        try:\n",
        "            result = a / b\n",
        "            logging.info(f\"Successfully divided {a} by {b}. Result: {result}\")\n",
        "            return result\n",
        "        except ZeroDivisionError:\n",
        "            logging.error(f\"Error: Attempted to divide by zero with {a} and {b}\")\n",
        "            return None\n",
        "\n",
        "    divide(10, 2)\n",
        "    divide(10, 0)"
      ],
      "metadata": {
        "id": "KEEAx-JGhhEV"
      },
      "execution_count": null,
      "outputs": []
    },
    {
      "cell_type": "markdown",
      "source": [
        "14. Write a program that uses the logging module to log both informational and error messages"
      ],
      "metadata": {
        "id": "QK2p_f6Thh5L"
      }
    },
    {
      "cell_type": "code",
      "source": [
        "import logging\n",
        "\n",
        "logging.basicConfig(filename='app.log', level=logging.INFO, format='%(asctime)s - %(levelname)s - %(message)s')\n",
        "\n",
        "logging.info('Application started.')\n",
        "logging.info('Performing a critical operation.')\n",
        "\n",
        "try:\n",
        "    result = 10 / 0\n",
        "except ZeroDivisionError as e:\n",
        "    logging.error(f'Error: Division by zero attempted. Details: {e}')\n",
        "\n",
        "logging.info('Application finished.')"
      ],
      "metadata": {
        "colab": {
          "base_uri": "https://localhost:8080/"
        },
        "id": "Z4ir5Amlho9k",
        "outputId": "72514e6e-60ee-4bc7-8741-3bae4fd3b0c2"
      },
      "execution_count": null,
      "outputs": [
        {
          "output_type": "stream",
          "name": "stderr",
          "text": [
            "ERROR:root:Error: Division by zero attempted. Details: division by zero\n"
          ]
        }
      ]
    },
    {
      "cell_type": "markdown",
      "source": [
        "15. Write a Python program that prints the content of a file and handles the case when the file is empty?"
      ],
      "metadata": {
        "id": "m8sonOnghpXE"
      }
    },
    {
      "cell_type": "code",
      "source": [
        "def print_file_content(filename):\n",
        "    try:\n",
        "        with open(filename, 'r') as file:\n",
        "            content = file.read()\n",
        "            if not content:\n",
        "                print(f\"The file '{filename}' is empty.\")\n",
        "            else:\n",
        "                print(f\"Content of '{filename}':\\n{content}\")\n",
        "    except FileNotFoundError:\n",
        "        print(f\"Error: The file '{filename}' was not found.\")\n",
        "\n",
        "print_file_content(\"example.txt\")\n",
        "print_file_content(\"empty.txt\")\n",
        "print_file_content(\"non_existent_file.txt\")"
      ],
      "metadata": {
        "colab": {
          "base_uri": "https://localhost:8080/"
        },
        "id": "UF__y03blC9T",
        "outputId": "e1b659c0-b399-4731-841e-e0bb18f05579"
      },
      "execution_count": null,
      "outputs": [
        {
          "output_type": "stream",
          "name": "stdout",
          "text": [
            "Error: The file 'example.txt' was not found.\n",
            "Error: The file 'empty.txt' was not found.\n",
            "Error: The file 'non_existent_file.txt' was not found.\n"
          ]
        }
      ]
    },
    {
      "cell_type": "markdown",
      "source": [
        "16. Demonstrate how to use memory profiling to check the memory usage of a small program?"
      ],
      "metadata": {
        "id": "echTwilElDkF"
      }
    },
    {
      "cell_type": "code",
      "source": [
        "try:\n",
        "    with open(\"your_file.txt\", \"r\") as file:\n",
        "        content = file.read()\n",
        "        print(content)\n",
        "except FileNotFoundError:\n",
        "    print(\"Error: The file does not exist.\")"
      ],
      "metadata": {
        "colab": {
          "base_uri": "https://localhost:8080/"
        },
        "id": "XdeHR_zClLn-",
        "outputId": "e2de8bf8-7602-475a-e553-68fc17c9cc7c"
      },
      "execution_count": null,
      "outputs": [
        {
          "output_type": "stream",
          "name": "stdout",
          "text": [
            "Error: The file does not exist.\n"
          ]
        }
      ]
    },
    {
      "cell_type": "markdown",
      "source": [
        "17. Write a Python program to create and write a list of numbers to a file, one number per line?"
      ],
      "metadata": {
        "id": "hbtTM8MLlqTI"
      }
    },
    {
      "cell_type": "code",
      "source": [
        "numbers = [1, 2, 3, 4, 5, 6, 7, 8, 9, 10]\n",
        "file_path = \"numbers.txt\"\n",
        "\n",
        "with open(file_path, \"w\") as file:\n",
        "    for number in numbers:\n",
        "        file.write(str(number) + \"\\n\")\n",
        "\n",
        "print(f\"Numbers successfully written to {file_path}\""
      ],
      "metadata": {
        "id": "nxQCX8LolS-F"
      },
      "execution_count": null,
      "outputs": []
    },
    {
      "cell_type": "markdown",
      "source": [
        "18. How would you implement a basic logging setup that logs to a file with rotation after 1MB?"
      ],
      "metadata": {
        "id": "LDaJa7Vz8OAt"
      }
    },
    {
      "cell_type": "code",
      "source": [
        "mport logging\n",
        "from logging.handlers import RotatingFileHandler\n",
        "\n",
        "# Configure the logger\n",
        "log_file = \"my_app.log\"\n",
        "max_bytes = 1024 * 1024  # 1 MB\n",
        "backup_count = 5  # Keep up to 5 old log files\n",
        "\n",
        "# Create a rotating file handler\n",
        "handler = RotatingFileHandler(log_file, maxBytes=max_bytes, backupCount=backup_count)\n",
        "\n",
        "# Create a formatter\n",
        "formatter = logging.Formatter('%(asctime)s - %(levelname)s - %(message)s')\n",
        "handler.setFormatter(formatter)\n",
        "\n",
        "# Get the root logger and add the handler\n",
        "logger = logging.getLogger()\n",
        "logger.setLevel(logging.INFO)  # Set the logging level\n",
        "logger.addHandler(handler)\n",
        "\n",
        "# Example usage\n",
        "logger.info(\"This is an informational message.\")\n",
        "logger.warning(\"This is a warning message.\")\n",
        "logger.error(\"This is an error message.\")"
      ],
      "metadata": {
        "id": "76QKei3wlS6p"
      },
      "execution_count": null,
      "outputs": []
    },
    {
      "cell_type": "markdown",
      "source": [
        "19.  Write a program that handles both IndexError and KeyError using a try-except block?"
      ],
      "metadata": {
        "id": "y0ArzqP-lMXn"
      }
    },
    {
      "cell_type": "code",
      "source": [
        "def handle_errors(data, index, key):\n",
        "    try:\n",
        "\n",
        "        print(f\"Accessing index {index}: {data[index]}\")\n",
        "\n",
        "        print(f\"Accessing key '{key}': {data[key]}\")\n",
        "    except IndexError:\n",
        "        print(f\"Error: IndexError occurred! Index {index} is out of bounds.\")\n",
        "    except KeyError:\n",
        "        print(f\"Error: KeyError occurred! Key '{key}' not found.\")\n",
        "    except Exception as e:\n",
        "        print(f\"An unexpected error occurred: {e}\")\n",
        "\n",
        "my_list = [1, 2, 3]\n",
        "my_dict = {\"name\": \"Alice\", \"age\": 30}\n",
        "\n",
        "handle_errors(my_list, 5, \"age\")\n",
        "handle_errors(my_dict, 0, \"city\")"
      ],
      "metadata": {
        "id": "So2kCDc085J9"
      },
      "execution_count": null,
      "outputs": []
    },
    {
      "cell_type": "markdown",
      "source": [
        "20. How would you open a file and read its contents using a context manager in Python?"
      ],
      "metadata": {
        "id": "gmGOhI8W85_F"
      }
    },
    {
      "cell_type": "code",
      "source": [
        "file_name = \"example.txt\"\n",
        "\n",
        "# Create a dummy file for demonstration\n",
        "with open(file_name, \"w\") as f:\n",
        "    f.write(\"This is line 1.\\n\")\n",
        "    f.write(\"This is line 2.\\n\")\n",
        "\n",
        "# Open and read the file using a context manager\n",
        "try:\n",
        "    with open(file_name, \"r\") as f:\n",
        "        content = f.read()\n",
        "        print(f\"File content:\\n{content}\")\n",
        "except FileNotFoundError:\n",
        "    print(f\"Error: File '{file_name}' not found.\")\n",
        "except Exception as e:\n",
        "    print(f\"An error occurred while reading the file: {e}\")"
      ],
      "metadata": {
        "id": "to4LIcU09DCS"
      },
      "execution_count": null,
      "outputs": []
    },
    {
      "cell_type": "markdown",
      "source": [
        "21.  Write a Python program that reads a file and prints the number of occurrences of a specific word?\n"
      ],
      "metadata": {
        "id": "ZiqoTu0v9DmW"
      }
    },
    {
      "cell_type": "code",
      "source": [
        "def count_word_occurrences(file_path, word_to_find):\n",
        "    count = 0\n",
        "    try:\n",
        "        with open(file_path, \"r\") as f:\n",
        "            content = f.read().lower()  # Read content and convert to lowercase for case-insensitive search\n",
        "            count = content.count(word_to_find.lower())\n",
        "        print(f\"The word '{word_to_find}' appears {count} times in '{file_path}'.\")\n",
        "    except FileNotFoundError:\n",
        "        print(f\"Error: File '{file_path}' not found.\")\n",
        "    except Exception as e:\n",
        "        print(f\"An error occurred: {e}\")\n",
        "\n",
        "# Create a dummy file for demonstration\n",
        "with open(\"sample.txt\", \"w\") as f:\n",
        "    f.write(\"Hello world. This is a sample file. World is great.\\n\")\n",
        "\n",
        "count_word_occurrences(\"sample.txt\", \"world\")\n",
        "count_word_occurrences(\"sample.txt\", \"python\")"
      ],
      "metadata": {
        "id": "0SZlOdwl9dPO"
      },
      "execution_count": null,
      "outputs": []
    },
    {
      "cell_type": "markdown",
      "source": [
        "22.  How can you check if a file is empty before attempting to read its contents?"
      ],
      "metadata": {
        "id": "qUudAV8a9dzy"
      }
    },
    {
      "cell_type": "code",
      "source": [
        "if os.path.exists(file_path):\n",
        "        if os.path.getsize(file_path) == 0:\n",
        "            print(f\"The file '{file_path}' is empty.\")\n",
        "        else:\n",
        "            print(f\"The file '{file_path}' is not empty.\")\n",
        "            # Proceed to read the file contents\n",
        "    else:\n",
        "        print(f\"The file '{file_path}' does not exist.\")"
      ],
      "metadata": {
        "id": "aGrS9c649mCF"
      },
      "execution_count": null,
      "outputs": []
    },
    {
      "cell_type": "markdown",
      "source": [
        "23.Write a Python program that writes to a log file when an error occurs during file handling?"
      ],
      "metadata": {
        "id": "p5yG6--H9mpG"
      }
    },
    {
      "cell_type": "code",
      "source": [
        "try:\n",
        "        with open(\"non_existent_file.txt\", \"r\") as f:\n",
        "            content = f.read()\n",
        "            print(content)\n",
        "    except IOError as e:\n",
        "        logging.error(f\"Error during file handling: {e}\")\n",
        "        print(f\"An error occurred. Check 'error.log' for details.\")"
      ],
      "metadata": {
        "id": "-gQHsnPYAIY4"
      },
      "execution_count": null,
      "outputs": []
    },
    {
      "cell_type": "markdown",
      "source": [],
      "metadata": {
        "id": "CkK7ijChAHuJ"
      }
    }
  ]
}